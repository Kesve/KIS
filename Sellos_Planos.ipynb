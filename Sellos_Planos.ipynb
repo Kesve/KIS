{
  "nbformat": 4,
  "nbformat_minor": 0,
  "metadata": {
    "colab": {
      "provenance": [],
      "toc_visible": true,
      "include_colab_link": true
    },
    "kernelspec": {
      "name": "python3",
      "display_name": "Python 3"
    },
    "language_info": {
      "name": "python"
    }
  },
  "cells": [
    {
      "cell_type": "markdown",
      "metadata": {
        "id": "view-in-github",
        "colab_type": "text"
      },
      "source": [
        "<a href=\"https://colab.research.google.com/github/Kesve/KIS/blob/BTB/Sellos_Planos.ipynb\" target=\"_parent\"><img src=\"https://colab.research.google.com/assets/colab-badge.svg\" alt=\"Open In Colab\"/></a>"
      ]
    },
    {
      "cell_type": "markdown",
      "source": [
        "# Confirmar Coordenadas"
      ],
      "metadata": {
        "id": "_FQmXtcFWwdn"
      }
    },
    {
      "cell_type": "code",
      "source": [
        "y = -750 #Aquí puedes adaptar la coordenada en papel (negativo hacia arriba) {rev: coordenada y}\n",
        "x1 = 300 #Aquí puedes adaptar la coordenada según el cajetín del proyecto.\n",
        "# Carga todos los PDFs con los que trabajarás.\n",
        "# Para cargar hay que jalar los PDFs a la sección 'Files' de la izquierda.\n",
        "# Cargar el sello que se colocará con el nombre \"sello1.png\""
      ],
      "metadata": {
        "id": "1YwQx_EaW46v"
      },
      "execution_count": null,
      "outputs": []
    },
    {
      "cell_type": "markdown",
      "source": [
        "# Ejecutar Script"
      ],
      "metadata": {
        "id": "wZVq5VIbW7k3"
      }
    },
    {
      "cell_type": "code",
      "source": [
        "!pip install PyMuPDF\n",
        "import fitz\n",
        "import os\n",
        "from google.colab import files\n",
        "import shutil\n",
        "\n",
        "if not os.path.exists('/content/Firmados'):\n",
        "    os.makedirs('/content/Firmados')\n",
        "contenido = [archivo.name for archivo in os.scandir('/content/') if archivo.is_file() and archivo.name.endswith('.pdf')]\n",
        "firma1 = fitz.Pixmap('/content/sello1.png')\n",
        "for archivo in contenido:\n",
        "    alto_firma = 650\n",
        "    rect1 = fitz.Rect(x1, y, x1+firma1.width*alto_firma/firma1.height, y+alto_firma)\n",
        "    pdf = fitz.open('/content/'+archivo)\n",
        "    pagina = pdf[0]\n",
        "    pagina.insert_image(rect1, pixmap=firma1)\n",
        "    pdf.save('/content/Firmados/'+archivo)\n",
        "  \n",
        "# Nombre de la carpeta a descargar\n",
        "folder_name = \"Firmados\"\n",
        "# Comprimir la carpeta en un archivo ZIP\n",
        "shutil.make_archive(folder_name, \"zip\", folder_name)\n",
        "# Descargar el archivo ZIP\n",
        "files.download(folder_name + \".zip\")"
      ],
      "metadata": {
        "id": "g-Mfzbw9XAiO"
      },
      "execution_count": null,
      "outputs": []
    },
    {
      "cell_type": "markdown",
      "source": [
        "# Limpiar Archivos"
      ],
      "metadata": {
        "id": "jHD5fjnuXTeJ"
      }
    },
    {
      "cell_type": "code",
      "source": [
        "!rm -rf Firmados/*\n",
        "\n",
        "if os.path.exists('/content/Firmados'):\n",
        "  os.rmdir('Firmados')\n",
        "\n",
        "clear = [archivo.name for archivo in os.scandir('/content/') if archivo.is_file() and not archivo.name.startswith('.')]\n",
        "for archivo in clear:\n",
        "    os.remove(os.path.join('/content/', archivo))"
      ],
      "metadata": {
        "id": "omKomZkpXXuH"
      },
      "execution_count": null,
      "outputs": []
    }
  ]
}